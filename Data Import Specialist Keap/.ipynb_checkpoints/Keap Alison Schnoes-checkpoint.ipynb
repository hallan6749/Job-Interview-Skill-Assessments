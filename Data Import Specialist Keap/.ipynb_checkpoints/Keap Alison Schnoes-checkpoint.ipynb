{
 "cells": [
  {
   "cell_type": "markdown",
   "id": "cf321d66",
   "metadata": {},
   "source": [
    "# Split the Name column in file 1 into First Name and Last Name"
   ]
  },
  {
   "cell_type": "markdown",
   "id": "d6d5a4b0",
   "metadata": {},
   "source": [
    "## Load Libraries"
   ]
  },
  {
   "cell_type": "code",
   "execution_count": 1,
   "id": "1c8f3349",
   "metadata": {},
   "outputs": [],
   "source": [
    "import pandas as pd\n",
    "import pandas as pandas"
   ]
  },
  {
   "cell_type": "markdown",
   "id": "a41e9281",
   "metadata": {},
   "source": [
    "## Read xlsx from excel document file 1 and show first 5 columns"
   ]
  },
  {
   "cell_type": "code",
   "execution_count": 2,
   "id": "df5e6b1c",
   "metadata": {},
   "outputs": [
    {
     "data": {
      "text/html": [
       "<div>\n",
       "<style scoped>\n",
       "    .dataframe tbody tr th:only-of-type {\n",
       "        vertical-align: middle;\n",
       "    }\n",
       "\n",
       "    .dataframe tbody tr th {\n",
       "        vertical-align: top;\n",
       "    }\n",
       "\n",
       "    .dataframe thead th {\n",
       "        text-align: right;\n",
       "    }\n",
       "</style>\n",
       "<table border=\"1\" class=\"dataframe\">\n",
       "  <thead>\n",
       "    <tr style=\"text-align: right;\">\n",
       "      <th></th>\n",
       "      <th>Id</th>\n",
       "      <th>Name</th>\n",
       "      <th>State</th>\n",
       "      <th>Country</th>\n",
       "    </tr>\n",
       "  </thead>\n",
       "  <tbody>\n",
       "    <tr>\n",
       "      <th>0</th>\n",
       "      <td>1</td>\n",
       "      <td>Steve Smith</td>\n",
       "      <td>Warner, NH</td>\n",
       "      <td>US</td>\n",
       "    </tr>\n",
       "    <tr>\n",
       "      <th>1</th>\n",
       "      <td>2</td>\n",
       "      <td>Haywood Sheena</td>\n",
       "      <td>East Natchitoches, PA</td>\n",
       "      <td>United States</td>\n",
       "    </tr>\n",
       "    <tr>\n",
       "      <th>2</th>\n",
       "      <td>3</td>\n",
       "      <td>Patience Chip</td>\n",
       "      <td>Lyon, WV</td>\n",
       "      <td>USA</td>\n",
       "    </tr>\n",
       "    <tr>\n",
       "      <th>3</th>\n",
       "      <td>4</td>\n",
       "      <td>Ambrose Drea</td>\n",
       "      <td>Willow Run, IL</td>\n",
       "      <td>US</td>\n",
       "    </tr>\n",
       "    <tr>\n",
       "      <th>4</th>\n",
       "      <td>5</td>\n",
       "      <td>Anthony Andre</td>\n",
       "      <td>Conyersville, AZ</td>\n",
       "      <td>USA</td>\n",
       "    </tr>\n",
       "  </tbody>\n",
       "</table>\n",
       "</div>"
      ],
      "text/plain": [
       "   Id            Name                  State        Country\n",
       "0   1     Steve Smith             Warner, NH             US\n",
       "1   2  Haywood Sheena  East Natchitoches, PA  United States\n",
       "2   3   Patience Chip               Lyon, WV            USA\n",
       "3   4    Ambrose Drea         Willow Run, IL             US\n",
       "4   5   Anthony Andre       Conyersville, AZ            USA"
      ]
     },
     "execution_count": 2,
     "metadata": {},
     "output_type": "execute_result"
    }
   ],
   "source": [
    "file1 = pd.read_csv('../Keap/File 1.csv')\n",
    "file1.head(5)"
   ]
  },
  {
   "cell_type": "markdown",
   "id": "e4f4bfda",
   "metadata": {},
   "source": [
    "## Dropping null value columns to avoid errors"
   ]
  },
  {
   "cell_type": "code",
   "execution_count": 3,
   "id": "73ceecfa",
   "metadata": {},
   "outputs": [],
   "source": [
    "file1.dropna(inplace = True)"
   ]
  },
  {
   "cell_type": "markdown",
   "id": "5cfa29ac",
   "metadata": {},
   "source": [
    "## New data frame with split value columns"
   ]
  },
  {
   "cell_type": "code",
   "execution_count": 4,
   "id": "1e7fd505",
   "metadata": {},
   "outputs": [],
   "source": [
    "file1new = file1[\"Name\"].str.split(\" \", n = 1, expand = True)"
   ]
  },
  {
   "cell_type": "markdown",
   "id": "906b0459",
   "metadata": {},
   "source": [
    "## Making separate first name column from new data frame"
   ]
  },
  {
   "cell_type": "code",
   "execution_count": 5,
   "id": "1200cff7",
   "metadata": {},
   "outputs": [],
   "source": [
    "file1[\"First Name\"] = file1new[0]"
   ]
  },
  {
   "cell_type": "markdown",
   "id": "a728f2f8",
   "metadata": {},
   "source": [
    "## Making separate last name column from new data frame"
   ]
  },
  {
   "cell_type": "code",
   "execution_count": 6,
   "id": "70df019d",
   "metadata": {},
   "outputs": [],
   "source": [
    "file1[\"Last Name\"] = file1new[1]"
   ]
  },
  {
   "cell_type": "markdown",
   "id": "1d0cb733",
   "metadata": {},
   "source": [
    "## Dropping old Name columns"
   ]
  },
  {
   "cell_type": "code",
   "execution_count": 7,
   "id": "9c6cc4c3",
   "metadata": {},
   "outputs": [],
   "source": [
    "file1.drop(columns =[\"Name\"], inplace = True)"
   ]
  },
  {
   "cell_type": "markdown",
   "id": "6859ed16",
   "metadata": {},
   "source": [
    "## Show first 5 columns for first and last name split from file 1"
   ]
  },
  {
   "cell_type": "code",
   "execution_count": 8,
   "id": "5601b58f",
   "metadata": {},
   "outputs": [
    {
     "data": {
      "text/html": [
       "<div>\n",
       "<style scoped>\n",
       "    .dataframe tbody tr th:only-of-type {\n",
       "        vertical-align: middle;\n",
       "    }\n",
       "\n",
       "    .dataframe tbody tr th {\n",
       "        vertical-align: top;\n",
       "    }\n",
       "\n",
       "    .dataframe thead th {\n",
       "        text-align: right;\n",
       "    }\n",
       "</style>\n",
       "<table border=\"1\" class=\"dataframe\">\n",
       "  <thead>\n",
       "    <tr style=\"text-align: right;\">\n",
       "      <th></th>\n",
       "      <th>Id</th>\n",
       "      <th>State</th>\n",
       "      <th>Country</th>\n",
       "      <th>First Name</th>\n",
       "      <th>Last Name</th>\n",
       "    </tr>\n",
       "  </thead>\n",
       "  <tbody>\n",
       "    <tr>\n",
       "      <th>0</th>\n",
       "      <td>1</td>\n",
       "      <td>Warner, NH</td>\n",
       "      <td>US</td>\n",
       "      <td>Steve</td>\n",
       "      <td>Smith</td>\n",
       "    </tr>\n",
       "    <tr>\n",
       "      <th>1</th>\n",
       "      <td>2</td>\n",
       "      <td>East Natchitoches, PA</td>\n",
       "      <td>United States</td>\n",
       "      <td>Haywood</td>\n",
       "      <td>Sheena</td>\n",
       "    </tr>\n",
       "    <tr>\n",
       "      <th>2</th>\n",
       "      <td>3</td>\n",
       "      <td>Lyon, WV</td>\n",
       "      <td>USA</td>\n",
       "      <td>Patience</td>\n",
       "      <td>Chip</td>\n",
       "    </tr>\n",
       "    <tr>\n",
       "      <th>3</th>\n",
       "      <td>4</td>\n",
       "      <td>Willow Run, IL</td>\n",
       "      <td>US</td>\n",
       "      <td>Ambrose</td>\n",
       "      <td>Drea</td>\n",
       "    </tr>\n",
       "    <tr>\n",
       "      <th>4</th>\n",
       "      <td>5</td>\n",
       "      <td>Conyersville, AZ</td>\n",
       "      <td>USA</td>\n",
       "      <td>Anthony</td>\n",
       "      <td>Andre</td>\n",
       "    </tr>\n",
       "  </tbody>\n",
       "</table>\n",
       "</div>"
      ],
      "text/plain": [
       "   Id                  State        Country First Name Last Name\n",
       "0   1             Warner, NH             US      Steve     Smith\n",
       "1   2  East Natchitoches, PA  United States    Haywood    Sheena\n",
       "2   3               Lyon, WV            USA   Patience      Chip\n",
       "3   4         Willow Run, IL             US    Ambrose      Drea\n",
       "4   5       Conyersville, AZ            USA    Anthony     Andre"
      ]
     },
     "execution_count": 8,
     "metadata": {},
     "output_type": "execute_result"
    }
   ],
   "source": [
    "file1.head()"
   ]
  },
  {
   "cell_type": "markdown",
   "id": "df115b40",
   "metadata": {},
   "source": [
    "# Split the State column in file 1 into City and State"
   ]
  },
  {
   "cell_type": "code",
   "execution_count": 9,
   "id": "b2f1f42b",
   "metadata": {},
   "outputs": [],
   "source": [
    "file1[['City', 'State']] = file1['State'].str.split(',', n=1, expand=True)"
   ]
  },
  {
   "cell_type": "markdown",
   "id": "4c83029d",
   "metadata": {},
   "source": [
    "## Show first 5 columns with the split of city and state"
   ]
  },
  {
   "cell_type": "code",
   "execution_count": 10,
   "id": "d87655f9",
   "metadata": {},
   "outputs": [
    {
     "data": {
      "text/html": [
       "<div>\n",
       "<style scoped>\n",
       "    .dataframe tbody tr th:only-of-type {\n",
       "        vertical-align: middle;\n",
       "    }\n",
       "\n",
       "    .dataframe tbody tr th {\n",
       "        vertical-align: top;\n",
       "    }\n",
       "\n",
       "    .dataframe thead th {\n",
       "        text-align: right;\n",
       "    }\n",
       "</style>\n",
       "<table border=\"1\" class=\"dataframe\">\n",
       "  <thead>\n",
       "    <tr style=\"text-align: right;\">\n",
       "      <th></th>\n",
       "      <th>Id</th>\n",
       "      <th>State</th>\n",
       "      <th>Country</th>\n",
       "      <th>First Name</th>\n",
       "      <th>Last Name</th>\n",
       "      <th>City</th>\n",
       "    </tr>\n",
       "  </thead>\n",
       "  <tbody>\n",
       "    <tr>\n",
       "      <th>0</th>\n",
       "      <td>1</td>\n",
       "      <td>NH</td>\n",
       "      <td>US</td>\n",
       "      <td>Steve</td>\n",
       "      <td>Smith</td>\n",
       "      <td>Warner</td>\n",
       "    </tr>\n",
       "    <tr>\n",
       "      <th>1</th>\n",
       "      <td>2</td>\n",
       "      <td>PA</td>\n",
       "      <td>United States</td>\n",
       "      <td>Haywood</td>\n",
       "      <td>Sheena</td>\n",
       "      <td>East Natchitoches</td>\n",
       "    </tr>\n",
       "    <tr>\n",
       "      <th>2</th>\n",
       "      <td>3</td>\n",
       "      <td>WV</td>\n",
       "      <td>USA</td>\n",
       "      <td>Patience</td>\n",
       "      <td>Chip</td>\n",
       "      <td>Lyon</td>\n",
       "    </tr>\n",
       "    <tr>\n",
       "      <th>3</th>\n",
       "      <td>4</td>\n",
       "      <td>IL</td>\n",
       "      <td>US</td>\n",
       "      <td>Ambrose</td>\n",
       "      <td>Drea</td>\n",
       "      <td>Willow Run</td>\n",
       "    </tr>\n",
       "    <tr>\n",
       "      <th>4</th>\n",
       "      <td>5</td>\n",
       "      <td>AZ</td>\n",
       "      <td>USA</td>\n",
       "      <td>Anthony</td>\n",
       "      <td>Andre</td>\n",
       "      <td>Conyersville</td>\n",
       "    </tr>\n",
       "  </tbody>\n",
       "</table>\n",
       "</div>"
      ],
      "text/plain": [
       "   Id State        Country First Name Last Name               City\n",
       "0   1    NH             US      Steve     Smith             Warner\n",
       "1   2    PA  United States    Haywood    Sheena  East Natchitoches\n",
       "2   3    WV            USA   Patience      Chip               Lyon\n",
       "3   4    IL             US    Ambrose      Drea         Willow Run\n",
       "4   5    AZ            USA    Anthony     Andre       Conyersville"
      ]
     },
     "execution_count": 10,
     "metadata": {},
     "output_type": "execute_result"
    }
   ],
   "source": [
    "file1.head()"
   ]
  },
  {
   "cell_type": "markdown",
   "id": "fabcb1be",
   "metadata": {},
   "source": [
    "# Set the Country column in file 1 as 'United States' for all rows"
   ]
  },
  {
   "cell_type": "markdown",
   "id": "439cad4b",
   "metadata": {},
   "source": [
    "## Find out different values on the Country column to set to United States"
   ]
  },
  {
   "cell_type": "code",
   "execution_count": 11,
   "id": "4e1ca6d3",
   "metadata": {},
   "outputs": [
    {
     "data": {
      "text/plain": [
       "Country\n",
       "United States    59\n",
       "USA              28\n",
       "US               13\n",
       "dtype: int64"
      ]
     },
     "execution_count": 11,
     "metadata": {},
     "output_type": "execute_result"
    }
   ],
   "source": [
    "file1.value_counts('Country')"
   ]
  },
  {
   "cell_type": "markdown",
   "id": "9afe556f",
   "metadata": {},
   "source": [
    "## Recode the 28 counts of USA and the 13 counts of US into United States"
   ]
  },
  {
   "cell_type": "code",
   "execution_count": 12,
   "id": "64ff84b6",
   "metadata": {},
   "outputs": [
    {
     "data": {
      "text/plain": [
       "United States    100\n",
       "Name: Country, dtype: int64"
      ]
     },
     "execution_count": 12,
     "metadata": {},
     "output_type": "execute_result"
    }
   ],
   "source": [
    "def countryFUNCTION(series):\n",
    "    if series == 'USA':\n",
    "        return 'United States'\n",
    "    if series == 'US':\n",
    "        return 'United States'\n",
    "    else:\n",
    "        return series\n",
    "\n",
    "file1['Country'] = file1['Country'].apply(countryFUNCTION)\n",
    "        \n",
    "file1['Country'].value_counts()"
   ]
  },
  {
   "cell_type": "markdown",
   "id": "d4f65840",
   "metadata": {},
   "source": [
    "## Show first 5 columns with the Country renamed as the United States for all rows"
   ]
  },
  {
   "cell_type": "code",
   "execution_count": 13,
   "id": "c0c926e3",
   "metadata": {},
   "outputs": [
    {
     "data": {
      "text/html": [
       "<div>\n",
       "<style scoped>\n",
       "    .dataframe tbody tr th:only-of-type {\n",
       "        vertical-align: middle;\n",
       "    }\n",
       "\n",
       "    .dataframe tbody tr th {\n",
       "        vertical-align: top;\n",
       "    }\n",
       "\n",
       "    .dataframe thead th {\n",
       "        text-align: right;\n",
       "    }\n",
       "</style>\n",
       "<table border=\"1\" class=\"dataframe\">\n",
       "  <thead>\n",
       "    <tr style=\"text-align: right;\">\n",
       "      <th></th>\n",
       "      <th>Id</th>\n",
       "      <th>State</th>\n",
       "      <th>Country</th>\n",
       "      <th>First Name</th>\n",
       "      <th>Last Name</th>\n",
       "      <th>City</th>\n",
       "    </tr>\n",
       "  </thead>\n",
       "  <tbody>\n",
       "    <tr>\n",
       "      <th>0</th>\n",
       "      <td>1</td>\n",
       "      <td>NH</td>\n",
       "      <td>United States</td>\n",
       "      <td>Steve</td>\n",
       "      <td>Smith</td>\n",
       "      <td>Warner</td>\n",
       "    </tr>\n",
       "    <tr>\n",
       "      <th>1</th>\n",
       "      <td>2</td>\n",
       "      <td>PA</td>\n",
       "      <td>United States</td>\n",
       "      <td>Haywood</td>\n",
       "      <td>Sheena</td>\n",
       "      <td>East Natchitoches</td>\n",
       "    </tr>\n",
       "    <tr>\n",
       "      <th>2</th>\n",
       "      <td>3</td>\n",
       "      <td>WV</td>\n",
       "      <td>United States</td>\n",
       "      <td>Patience</td>\n",
       "      <td>Chip</td>\n",
       "      <td>Lyon</td>\n",
       "    </tr>\n",
       "    <tr>\n",
       "      <th>3</th>\n",
       "      <td>4</td>\n",
       "      <td>IL</td>\n",
       "      <td>United States</td>\n",
       "      <td>Ambrose</td>\n",
       "      <td>Drea</td>\n",
       "      <td>Willow Run</td>\n",
       "    </tr>\n",
       "    <tr>\n",
       "      <th>4</th>\n",
       "      <td>5</td>\n",
       "      <td>AZ</td>\n",
       "      <td>United States</td>\n",
       "      <td>Anthony</td>\n",
       "      <td>Andre</td>\n",
       "      <td>Conyersville</td>\n",
       "    </tr>\n",
       "  </tbody>\n",
       "</table>\n",
       "</div>"
      ],
      "text/plain": [
       "   Id State        Country First Name Last Name               City\n",
       "0   1    NH  United States      Steve     Smith             Warner\n",
       "1   2    PA  United States    Haywood    Sheena  East Natchitoches\n",
       "2   3    WV  United States   Patience      Chip               Lyon\n",
       "3   4    IL  United States    Ambrose      Drea         Willow Run\n",
       "4   5    AZ  United States    Anthony     Andre       Conyersville"
      ]
     },
     "execution_count": 13,
     "metadata": {},
     "output_type": "execute_result"
    }
   ],
   "source": [
    "file1.head()"
   ]
  },
  {
   "cell_type": "markdown",
   "id": "8d599ed1",
   "metadata": {},
   "source": [
    "# Set the Date Created column in file *2* to show as DD/MM/YYYY"
   ]
  },
  {
   "cell_type": "markdown",
   "id": "ec0c0636",
   "metadata": {},
   "source": [
    "## Read xlsx from excel document file 2 and show first 5 columns"
   ]
  },
  {
   "cell_type": "code",
   "execution_count": 14,
   "id": "29c1216a",
   "metadata": {},
   "outputs": [
    {
     "data": {
      "text/html": [
       "<div>\n",
       "<style scoped>\n",
       "    .dataframe tbody tr th:only-of-type {\n",
       "        vertical-align: middle;\n",
       "    }\n",
       "\n",
       "    .dataframe tbody tr th {\n",
       "        vertical-align: top;\n",
       "    }\n",
       "\n",
       "    .dataframe thead th {\n",
       "        text-align: right;\n",
       "    }\n",
       "</style>\n",
       "<table border=\"1\" class=\"dataframe\">\n",
       "  <thead>\n",
       "    <tr style=\"text-align: right;\">\n",
       "      <th></th>\n",
       "      <th>Id</th>\n",
       "      <th>Date Created</th>\n",
       "    </tr>\n",
       "  </thead>\n",
       "  <tbody>\n",
       "    <tr>\n",
       "      <th>0</th>\n",
       "      <td>89</td>\n",
       "      <td>5/21/2015</td>\n",
       "    </tr>\n",
       "    <tr>\n",
       "      <th>1</th>\n",
       "      <td>2</td>\n",
       "      <td>1/6/2013</td>\n",
       "    </tr>\n",
       "    <tr>\n",
       "      <th>2</th>\n",
       "      <td>39</td>\n",
       "      <td>2/7/2013</td>\n",
       "    </tr>\n",
       "    <tr>\n",
       "      <th>3</th>\n",
       "      <td>67</td>\n",
       "      <td>1/2/2013</td>\n",
       "    </tr>\n",
       "    <tr>\n",
       "      <th>4</th>\n",
       "      <td>39</td>\n",
       "      <td>1/22/2013</td>\n",
       "    </tr>\n",
       "  </tbody>\n",
       "</table>\n",
       "</div>"
      ],
      "text/plain": [
       "   Id Date Created\n",
       "0  89    5/21/2015\n",
       "1   2     1/6/2013\n",
       "2  39     2/7/2013\n",
       "3  67     1/2/2013\n",
       "4  39    1/22/2013"
      ]
     },
     "execution_count": 14,
     "metadata": {},
     "output_type": "execute_result"
    }
   ],
   "source": [
    "file2 = pd.read_csv('../Keap/File 2.csv')\n",
    "file2.head(5)"
   ]
  },
  {
   "cell_type": "markdown",
   "id": "ab7c7d6e",
   "metadata": {},
   "source": [
    "## Drop NaNs"
   ]
  },
  {
   "cell_type": "code",
   "execution_count": 15,
   "id": "0c634e0e",
   "metadata": {},
   "outputs": [],
   "source": [
    "file2.dropna(inplace = True)"
   ]
  },
  {
   "cell_type": "markdown",
   "id": "af3231b5",
   "metadata": {},
   "source": [
    "## Load Library"
   ]
  },
  {
   "cell_type": "code",
   "execution_count": 16,
   "id": "20664f0c",
   "metadata": {},
   "outputs": [],
   "source": [
    "from datetime import datetime"
   ]
  },
  {
   "cell_type": "markdown",
   "id": "08933951",
   "metadata": {},
   "source": [
    "## Define a series and then use date formating to change File 2"
   ]
  },
  {
   "cell_type": "code",
   "execution_count": 17,
   "id": "ce55569f",
   "metadata": {},
   "outputs": [],
   "source": [
    "def conv_dates_series(df, col, old_date_format, new_date_format):\n",
    "\n",
    "    file2['Date Created'] = pd.to_datetime(file2['Date Created'], format=old_date_format).dt.strftime(new_date_format)\n",
    "    \n",
    "    return file2"
   ]
  },
  {
   "cell_type": "code",
   "execution_count": 18,
   "id": "10f6f3a4",
   "metadata": {},
   "outputs": [
    {
     "data": {
      "text/html": [
       "<div>\n",
       "<style scoped>\n",
       "    .dataframe tbody tr th:only-of-type {\n",
       "        vertical-align: middle;\n",
       "    }\n",
       "\n",
       "    .dataframe tbody tr th {\n",
       "        vertical-align: top;\n",
       "    }\n",
       "\n",
       "    .dataframe thead th {\n",
       "        text-align: right;\n",
       "    }\n",
       "</style>\n",
       "<table border=\"1\" class=\"dataframe\">\n",
       "  <thead>\n",
       "    <tr style=\"text-align: right;\">\n",
       "      <th></th>\n",
       "      <th>Id</th>\n",
       "      <th>Date Created</th>\n",
       "    </tr>\n",
       "  </thead>\n",
       "  <tbody>\n",
       "    <tr>\n",
       "      <th>0</th>\n",
       "      <td>89</td>\n",
       "      <td>21/05/2015</td>\n",
       "    </tr>\n",
       "    <tr>\n",
       "      <th>1</th>\n",
       "      <td>2</td>\n",
       "      <td>06/01/2013</td>\n",
       "    </tr>\n",
       "    <tr>\n",
       "      <th>2</th>\n",
       "      <td>39</td>\n",
       "      <td>07/02/2013</td>\n",
       "    </tr>\n",
       "    <tr>\n",
       "      <th>3</th>\n",
       "      <td>67</td>\n",
       "      <td>02/01/2013</td>\n",
       "    </tr>\n",
       "    <tr>\n",
       "      <th>4</th>\n",
       "      <td>39</td>\n",
       "      <td>22/01/2013</td>\n",
       "    </tr>\n",
       "    <tr>\n",
       "      <th>...</th>\n",
       "      <td>...</td>\n",
       "      <td>...</td>\n",
       "    </tr>\n",
       "    <tr>\n",
       "      <th>94</th>\n",
       "      <td>8</td>\n",
       "      <td>21/01/2013</td>\n",
       "    </tr>\n",
       "    <tr>\n",
       "      <th>95</th>\n",
       "      <td>26</td>\n",
       "      <td>10/01/2013</td>\n",
       "    </tr>\n",
       "    <tr>\n",
       "      <th>96</th>\n",
       "      <td>48</td>\n",
       "      <td>25/02/2013</td>\n",
       "    </tr>\n",
       "    <tr>\n",
       "      <th>97</th>\n",
       "      <td>42</td>\n",
       "      <td>23/01/2013</td>\n",
       "    </tr>\n",
       "    <tr>\n",
       "      <th>98</th>\n",
       "      <td>47</td>\n",
       "      <td>14/01/2013</td>\n",
       "    </tr>\n",
       "  </tbody>\n",
       "</table>\n",
       "<p>99 rows × 2 columns</p>\n",
       "</div>"
      ],
      "text/plain": [
       "    Id Date Created\n",
       "0   89   21/05/2015\n",
       "1    2   06/01/2013\n",
       "2   39   07/02/2013\n",
       "3   67   02/01/2013\n",
       "4   39   22/01/2013\n",
       "..  ..          ...\n",
       "94   8   21/01/2013\n",
       "95  26   10/01/2013\n",
       "96  48   25/02/2013\n",
       "97  42   23/01/2013\n",
       "98  47   14/01/2013\n",
       "\n",
       "[99 rows x 2 columns]"
      ]
     },
     "execution_count": 18,
     "metadata": {},
     "output_type": "execute_result"
    }
   ],
   "source": [
    "test_df = pd.DataFrame({\"file2\": [\"01-01-0000\", \"01-01-9999\"]})\n",
    "\n",
    "old_date_format='%m/%d/%Y'\n",
    "new_date_format='%d/%m/%Y'\n",
    "\n",
    "conv_dates_series(test_df, \"file2\", old_date_format, new_date_format)"
   ]
  },
  {
   "cell_type": "markdown",
   "id": "14b9511e",
   "metadata": {},
   "source": [
    "## First 5 rows of file 2 with the Date Created column changed to show DD/MM/YYYY"
   ]
  },
  {
   "cell_type": "code",
   "execution_count": 19,
   "id": "1dc60b84",
   "metadata": {},
   "outputs": [
    {
     "data": {
      "text/html": [
       "<div>\n",
       "<style scoped>\n",
       "    .dataframe tbody tr th:only-of-type {\n",
       "        vertical-align: middle;\n",
       "    }\n",
       "\n",
       "    .dataframe tbody tr th {\n",
       "        vertical-align: top;\n",
       "    }\n",
       "\n",
       "    .dataframe thead th {\n",
       "        text-align: right;\n",
       "    }\n",
       "</style>\n",
       "<table border=\"1\" class=\"dataframe\">\n",
       "  <thead>\n",
       "    <tr style=\"text-align: right;\">\n",
       "      <th></th>\n",
       "      <th>Id</th>\n",
       "      <th>Date Created</th>\n",
       "    </tr>\n",
       "  </thead>\n",
       "  <tbody>\n",
       "    <tr>\n",
       "      <th>0</th>\n",
       "      <td>89</td>\n",
       "      <td>21/05/2015</td>\n",
       "    </tr>\n",
       "    <tr>\n",
       "      <th>1</th>\n",
       "      <td>2</td>\n",
       "      <td>06/01/2013</td>\n",
       "    </tr>\n",
       "    <tr>\n",
       "      <th>2</th>\n",
       "      <td>39</td>\n",
       "      <td>07/02/2013</td>\n",
       "    </tr>\n",
       "    <tr>\n",
       "      <th>3</th>\n",
       "      <td>67</td>\n",
       "      <td>02/01/2013</td>\n",
       "    </tr>\n",
       "    <tr>\n",
       "      <th>4</th>\n",
       "      <td>39</td>\n",
       "      <td>22/01/2013</td>\n",
       "    </tr>\n",
       "  </tbody>\n",
       "</table>\n",
       "</div>"
      ],
      "text/plain": [
       "   Id Date Created\n",
       "0  89   21/05/2015\n",
       "1   2   06/01/2013\n",
       "2  39   07/02/2013\n",
       "3  67   02/01/2013\n",
       "4  39   22/01/2013"
      ]
     },
     "execution_count": 19,
     "metadata": {},
     "output_type": "execute_result"
    }
   ],
   "source": [
    "file2.head(5)"
   ]
  },
  {
   "cell_type": "markdown",
   "id": "2e5d7d2e",
   "metadata": {},
   "source": [
    "# Combine columns 'Street Number' and 'Street' into one 'Address' column"
   ]
  },
  {
   "cell_type": "markdown",
   "id": "96dc49c7",
   "metadata": {},
   "source": [
    "## Read xlsx from excel document file 3 and show first 5 columns"
   ]
  },
  {
   "cell_type": "code",
   "execution_count": 20,
   "id": "245c22e9",
   "metadata": {},
   "outputs": [
    {
     "data": {
      "text/html": [
       "<div>\n",
       "<style scoped>\n",
       "    .dataframe tbody tr th:only-of-type {\n",
       "        vertical-align: middle;\n",
       "    }\n",
       "\n",
       "    .dataframe tbody tr th {\n",
       "        vertical-align: top;\n",
       "    }\n",
       "\n",
       "    .dataframe thead th {\n",
       "        text-align: right;\n",
       "    }\n",
       "</style>\n",
       "<table border=\"1\" class=\"dataframe\">\n",
       "  <thead>\n",
       "    <tr style=\"text-align: right;\">\n",
       "      <th></th>\n",
       "      <th>Id</th>\n",
       "      <th>Street Number</th>\n",
       "      <th>Street</th>\n",
       "    </tr>\n",
       "  </thead>\n",
       "  <tbody>\n",
       "    <tr>\n",
       "      <th>0</th>\n",
       "      <td>61.0</td>\n",
       "      <td>1529.0</td>\n",
       "      <td>Shepherd Haven</td>\n",
       "    </tr>\n",
       "    <tr>\n",
       "      <th>1</th>\n",
       "      <td>91.0</td>\n",
       "      <td>5668.0</td>\n",
       "      <td>Flint Highway</td>\n",
       "    </tr>\n",
       "    <tr>\n",
       "      <th>2</th>\n",
       "      <td>81.0</td>\n",
       "      <td>4751.0</td>\n",
       "      <td>Parkwood Fields</td>\n",
       "    </tr>\n",
       "    <tr>\n",
       "      <th>3</th>\n",
       "      <td>77.0</td>\n",
       "      <td>7884.0</td>\n",
       "      <td>Bloomfield Wood</td>\n",
       "    </tr>\n",
       "    <tr>\n",
       "      <th>4</th>\n",
       "      <td>80.0</td>\n",
       "      <td>7655.0</td>\n",
       "      <td>Hall Meadow Road</td>\n",
       "    </tr>\n",
       "  </tbody>\n",
       "</table>\n",
       "</div>"
      ],
      "text/plain": [
       "     Id  Street Number             Street\n",
       "0  61.0         1529.0     Shepherd Haven\n",
       "1  91.0         5668.0      Flint Highway\n",
       "2  81.0         4751.0    Parkwood Fields\n",
       "3  77.0         7884.0    Bloomfield Wood\n",
       "4  80.0         7655.0   Hall Meadow Road"
      ]
     },
     "execution_count": 20,
     "metadata": {},
     "output_type": "execute_result"
    }
   ],
   "source": [
    "file3 = pd.read_csv('../Keap/File 3.csv')\n",
    "file3.head(5)"
   ]
  },
  {
   "cell_type": "markdown",
   "id": "0c32d862",
   "metadata": {},
   "source": [
    "## Drop NaN"
   ]
  },
  {
   "cell_type": "code",
   "execution_count": 21,
   "id": "d9dec279",
   "metadata": {},
   "outputs": [],
   "source": [
    "file3.dropna(inplace = True)"
   ]
  },
  {
   "cell_type": "markdown",
   "id": "149b8cea",
   "metadata": {},
   "source": [
    "## Combine columns and change the datatype temporary to string"
   ]
  },
  {
   "cell_type": "code",
   "execution_count": 22,
   "id": "1e9c6ae5",
   "metadata": {},
   "outputs": [],
   "source": [
    "file3['Address'] = file3['Street Number'].apply(str) + ' ' + file3['Street'].apply(str)"
   ]
  },
  {
   "cell_type": "markdown",
   "id": "d8f56d74",
   "metadata": {},
   "source": [
    "## Show first 5 columns to demonstrate verification of combined columns"
   ]
  },
  {
   "cell_type": "code",
   "execution_count": 38,
   "id": "6faf44b5",
   "metadata": {},
   "outputs": [
    {
     "data": {
      "text/html": [
       "<div>\n",
       "<style scoped>\n",
       "    .dataframe tbody tr th:only-of-type {\n",
       "        vertical-align: middle;\n",
       "    }\n",
       "\n",
       "    .dataframe tbody tr th {\n",
       "        vertical-align: top;\n",
       "    }\n",
       "\n",
       "    .dataframe thead th {\n",
       "        text-align: right;\n",
       "    }\n",
       "</style>\n",
       "<table border=\"1\" class=\"dataframe\">\n",
       "  <thead>\n",
       "    <tr style=\"text-align: right;\">\n",
       "      <th></th>\n",
       "      <th>Id</th>\n",
       "      <th>Street Number</th>\n",
       "      <th>Street</th>\n",
       "      <th>Address</th>\n",
       "    </tr>\n",
       "  </thead>\n",
       "  <tbody>\n",
       "    <tr>\n",
       "      <th>0</th>\n",
       "      <td>61.0</td>\n",
       "      <td>1529.0</td>\n",
       "      <td>Shepherd Haven</td>\n",
       "      <td>1529.0  Shepherd Haven</td>\n",
       "    </tr>\n",
       "    <tr>\n",
       "      <th>1</th>\n",
       "      <td>91.0</td>\n",
       "      <td>5668.0</td>\n",
       "      <td>Flint Highway</td>\n",
       "      <td>5668.0  Flint Highway</td>\n",
       "    </tr>\n",
       "    <tr>\n",
       "      <th>2</th>\n",
       "      <td>81.0</td>\n",
       "      <td>4751.0</td>\n",
       "      <td>Parkwood Fields</td>\n",
       "      <td>4751.0  Parkwood Fields</td>\n",
       "    </tr>\n",
       "    <tr>\n",
       "      <th>3</th>\n",
       "      <td>77.0</td>\n",
       "      <td>7884.0</td>\n",
       "      <td>Bloomfield Wood</td>\n",
       "      <td>7884.0  Bloomfield Wood</td>\n",
       "    </tr>\n",
       "    <tr>\n",
       "      <th>4</th>\n",
       "      <td>80.0</td>\n",
       "      <td>7655.0</td>\n",
       "      <td>Hall Meadow Road</td>\n",
       "      <td>7655.0  Hall Meadow Road</td>\n",
       "    </tr>\n",
       "  </tbody>\n",
       "</table>\n",
       "</div>"
      ],
      "text/plain": [
       "     Id  Street Number             Street                   Address\n",
       "0  61.0         1529.0     Shepherd Haven    1529.0  Shepherd Haven\n",
       "1  91.0         5668.0      Flint Highway     5668.0  Flint Highway\n",
       "2  81.0         4751.0    Parkwood Fields   4751.0  Parkwood Fields\n",
       "3  77.0         7884.0    Bloomfield Wood   7884.0  Bloomfield Wood\n",
       "4  80.0         7655.0   Hall Meadow Road  7655.0  Hall Meadow Road"
      ]
     },
     "execution_count": 38,
     "metadata": {},
     "output_type": "execute_result"
    }
   ],
   "source": [
    "file3.head(5)"
   ]
  },
  {
   "cell_type": "markdown",
   "id": "252f3d49",
   "metadata": {},
   "source": [
    "# Add 'Date Created' from file *2* and 'Address' column from file 3 into file 1 and make sure they are assigned to the correct record based on the Id"
   ]
  },
  {
   "cell_type": "markdown",
   "id": "29c9824f",
   "metadata": {},
   "source": [
    "## Merged File 2 into File 1 joining by Id (Date Created was the only other column)"
   ]
  },
  {
   "cell_type": "code",
   "execution_count": 24,
   "id": "2ed5e6f3",
   "metadata": {},
   "outputs": [
    {
     "data": {
      "text/html": [
       "<div>\n",
       "<style scoped>\n",
       "    .dataframe tbody tr th:only-of-type {\n",
       "        vertical-align: middle;\n",
       "    }\n",
       "\n",
       "    .dataframe tbody tr th {\n",
       "        vertical-align: top;\n",
       "    }\n",
       "\n",
       "    .dataframe thead th {\n",
       "        text-align: right;\n",
       "    }\n",
       "</style>\n",
       "<table border=\"1\" class=\"dataframe\">\n",
       "  <thead>\n",
       "    <tr style=\"text-align: right;\">\n",
       "      <th></th>\n",
       "      <th>Id</th>\n",
       "      <th>State</th>\n",
       "      <th>Country</th>\n",
       "      <th>First Name</th>\n",
       "      <th>Last Name</th>\n",
       "      <th>City</th>\n",
       "      <th>Date Created</th>\n",
       "    </tr>\n",
       "  </thead>\n",
       "  <tbody>\n",
       "    <tr>\n",
       "      <th>0</th>\n",
       "      <td>1</td>\n",
       "      <td>NH</td>\n",
       "      <td>United States</td>\n",
       "      <td>Steve</td>\n",
       "      <td>Smith</td>\n",
       "      <td>Warner</td>\n",
       "      <td>10/02/2013</td>\n",
       "    </tr>\n",
       "    <tr>\n",
       "      <th>1</th>\n",
       "      <td>2</td>\n",
       "      <td>PA</td>\n",
       "      <td>United States</td>\n",
       "      <td>Haywood</td>\n",
       "      <td>Sheena</td>\n",
       "      <td>East Natchitoches</td>\n",
       "      <td>06/01/2013</td>\n",
       "    </tr>\n",
       "    <tr>\n",
       "      <th>2</th>\n",
       "      <td>2</td>\n",
       "      <td>PA</td>\n",
       "      <td>United States</td>\n",
       "      <td>Haywood</td>\n",
       "      <td>Sheena</td>\n",
       "      <td>East Natchitoches</td>\n",
       "      <td>22/01/2013</td>\n",
       "    </tr>\n",
       "    <tr>\n",
       "      <th>3</th>\n",
       "      <td>2</td>\n",
       "      <td>PA</td>\n",
       "      <td>United States</td>\n",
       "      <td>Haywood</td>\n",
       "      <td>Sheena</td>\n",
       "      <td>East Natchitoches</td>\n",
       "      <td>08/02/2013</td>\n",
       "    </tr>\n",
       "    <tr>\n",
       "      <th>4</th>\n",
       "      <td>3</td>\n",
       "      <td>WV</td>\n",
       "      <td>United States</td>\n",
       "      <td>Patience</td>\n",
       "      <td>Chip</td>\n",
       "      <td>Lyon</td>\n",
       "      <td>17/02/2013</td>\n",
       "    </tr>\n",
       "  </tbody>\n",
       "</table>\n",
       "</div>"
      ],
      "text/plain": [
       "   Id State        Country First Name Last Name               City  \\\n",
       "0   1    NH  United States      Steve     Smith             Warner   \n",
       "1   2    PA  United States    Haywood    Sheena  East Natchitoches   \n",
       "2   2    PA  United States    Haywood    Sheena  East Natchitoches   \n",
       "3   2    PA  United States    Haywood    Sheena  East Natchitoches   \n",
       "4   3    WV  United States   Patience      Chip               Lyon   \n",
       "\n",
       "  Date Created  \n",
       "0   10/02/2013  \n",
       "1   06/01/2013  \n",
       "2   22/01/2013  \n",
       "3   08/02/2013  \n",
       "4   17/02/2013  "
      ]
     },
     "execution_count": 24,
     "metadata": {},
     "output_type": "execute_result"
    }
   ],
   "source": [
    "merged_data = file1.merge(file2,on=[\"Id\"],) \n",
    "merged_data.head()"
   ]
  },
  {
   "cell_type": "markdown",
   "id": "addc8828",
   "metadata": {},
   "source": [
    "## Used previous merge file to merge file 3 joining by Id and adding Address Column"
   ]
  },
  {
   "cell_type": "code",
   "execution_count": 26,
   "id": "e26845bd",
   "metadata": {},
   "outputs": [
    {
     "data": {
      "text/html": [
       "<div>\n",
       "<style scoped>\n",
       "    .dataframe tbody tr th:only-of-type {\n",
       "        vertical-align: middle;\n",
       "    }\n",
       "\n",
       "    .dataframe tbody tr th {\n",
       "        vertical-align: top;\n",
       "    }\n",
       "\n",
       "    .dataframe thead th {\n",
       "        text-align: right;\n",
       "    }\n",
       "</style>\n",
       "<table border=\"1\" class=\"dataframe\">\n",
       "  <thead>\n",
       "    <tr style=\"text-align: right;\">\n",
       "      <th></th>\n",
       "      <th>Id</th>\n",
       "      <th>State</th>\n",
       "      <th>Country</th>\n",
       "      <th>First Name</th>\n",
       "      <th>Last Name</th>\n",
       "      <th>City</th>\n",
       "      <th>Date Created</th>\n",
       "      <th>Address</th>\n",
       "    </tr>\n",
       "  </thead>\n",
       "  <tbody>\n",
       "    <tr>\n",
       "      <th>0</th>\n",
       "      <td>1</td>\n",
       "      <td>NH</td>\n",
       "      <td>United States</td>\n",
       "      <td>Steve</td>\n",
       "      <td>Smith</td>\n",
       "      <td>Warner</td>\n",
       "      <td>10/02/2013</td>\n",
       "      <td>NaN</td>\n",
       "    </tr>\n",
       "    <tr>\n",
       "      <th>1</th>\n",
       "      <td>2</td>\n",
       "      <td>PA</td>\n",
       "      <td>United States</td>\n",
       "      <td>Haywood</td>\n",
       "      <td>Sheena</td>\n",
       "      <td>East Natchitoches</td>\n",
       "      <td>06/01/2013</td>\n",
       "      <td>NaN</td>\n",
       "    </tr>\n",
       "    <tr>\n",
       "      <th>2</th>\n",
       "      <td>2</td>\n",
       "      <td>PA</td>\n",
       "      <td>United States</td>\n",
       "      <td>Haywood</td>\n",
       "      <td>Sheena</td>\n",
       "      <td>East Natchitoches</td>\n",
       "      <td>22/01/2013</td>\n",
       "      <td>NaN</td>\n",
       "    </tr>\n",
       "    <tr>\n",
       "      <th>3</th>\n",
       "      <td>2</td>\n",
       "      <td>PA</td>\n",
       "      <td>United States</td>\n",
       "      <td>Haywood</td>\n",
       "      <td>Sheena</td>\n",
       "      <td>East Natchitoches</td>\n",
       "      <td>08/02/2013</td>\n",
       "      <td>NaN</td>\n",
       "    </tr>\n",
       "    <tr>\n",
       "      <th>4</th>\n",
       "      <td>3</td>\n",
       "      <td>WV</td>\n",
       "      <td>United States</td>\n",
       "      <td>Patience</td>\n",
       "      <td>Chip</td>\n",
       "      <td>Lyon</td>\n",
       "      <td>17/02/2013</td>\n",
       "      <td>5603.0 Mary Cottages</td>\n",
       "    </tr>\n",
       "  </tbody>\n",
       "</table>\n",
       "</div>"
      ],
      "text/plain": [
       "   Id State        Country First Name Last Name               City  \\\n",
       "0   1    NH  United States      Steve     Smith             Warner   \n",
       "1   2    PA  United States    Haywood    Sheena  East Natchitoches   \n",
       "2   2    PA  United States    Haywood    Sheena  East Natchitoches   \n",
       "3   2    PA  United States    Haywood    Sheena  East Natchitoches   \n",
       "4   3    WV  United States   Patience      Chip               Lyon   \n",
       "\n",
       "  Date Created               Address  \n",
       "0   10/02/2013                   NaN  \n",
       "1   06/01/2013                   NaN  \n",
       "2   22/01/2013                   NaN  \n",
       "3   08/02/2013                   NaN  \n",
       "4   17/02/2013  5603.0 Mary Cottages  "
      ]
     },
     "execution_count": 26,
     "metadata": {},
     "output_type": "execute_result"
    }
   ],
   "source": [
    "file1 = pd.merge(merged_data,file3[['Id','Address']],on='Id', how='left')\n",
    "file1.head()"
   ]
  }
 ],
 "metadata": {
  "kernelspec": {
   "display_name": "Python 3 (ipykernel)",
   "language": "python",
   "name": "python3"
  },
  "language_info": {
   "codemirror_mode": {
    "name": "ipython",
    "version": 3
   },
   "file_extension": ".py",
   "mimetype": "text/x-python",
   "name": "python",
   "nbconvert_exporter": "python",
   "pygments_lexer": "ipython3",
   "version": "3.8.12"
  }
 },
 "nbformat": 4,
 "nbformat_minor": 5
}
